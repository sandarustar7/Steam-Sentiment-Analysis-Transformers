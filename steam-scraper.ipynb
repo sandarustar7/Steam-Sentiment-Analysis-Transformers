{
 "cells": [
  {
   "cell_type": "code",
   "execution_count": 21,
   "metadata": {},
   "outputs": [],
   "source": [
    "import time\n",
    "import requests\n",
    "import json\n",
    "import os\n",
    "import unidecode\n",
    "from unidecode import UnidecodeError\n",
    "import tqdm\n",
    "import urllib.parse\n",
    "import shutil\n",
    "import pickle\n",
    "\n",
    "appids = [730, #CS:GO\n",
    "          578080, #PUBG\n",
    "          570, #Dota 2\n",
    "          271590, #GTA V\n",
    "          359550, #Rainbow Six Siege\n",
    "          440, #Team Fortress 2\n",
    "          105600, #Terraria\n",
    "          4000, #Garry's Mod\n",
    "          252490, #Rust\n",
    "          292030, #The Witcher 3\n",
    "          1172470, #Apex Legends\n",
    "          945360, # Among Us\n",
    "          1085660, #Destiny 2\n",
    "          550, #Left 4 Dead 2\n",
    "          1091500, #Cyberpunk 2077\n",
    "          230410, #Warframe\n",
    "          304930, #Unturned\n",
    "          1245620, #Elden Ring\n",
    "          346110, #ARK: Survival Evolved\n",
    "          1097150, #Fall Guys\n",
    "          381210, #Dead by Daylight\n",
    "          413150, #Stardew Valley\n",
    "          227300, #Euro Truck Simulator 2\n",
    "          739630, #Phasmophobia\n",
    "          252950, #Rocket League\n",
    "          242760, #The Forest\n",
    "          218620, #PAYDAY 2\n",
    "          236390, #War Thunder\n",
    "          1174180, #Red Dead Redemption 2\n",
    "          892970, #Valheim\n",
    "          444090, #Paladins\n",
    "          291550, #Brawlhalla\n",
    "          221100, #DayZ\n",
    "          620, #Portal 2\n",
    "          239140, #Dying Light\n",
    "          322330, #Don't Starve Together\n",
    "          367520, #Hollow Knight\n",
    "          1172620, #Sea of Thieves\n",
    "          582010, #Monster Hunter World\n",
    "          374320, #Dark Souls III\n",
    "          648800, #Raft\n",
    "          960090, #Bloon TD 6\n",
    "          1063730, #New World\n",
    "          322170, #Geometry Dash\n",
    "          250900, #The Binding of Isaac: Rebirth\n",
    "          433850, #Z1 Battle Royale\n",
    "          1145360, #Hades\n",
    "          264710, #Subnautica\n",
    "          1938090, #Call of Duty Modern Warfare II\n",
    "          275850, #No Mans Sky\n",
    "          238960, #Path of Exile\n",
    "          377160, #Fallout 4\n",
    "          438100, #VRChat\n",
    "          1599340, #Lost Ark\n",
    "          289070, #Sid Meier's Civilization VI\n",
    "          698780, #Doki Doki Literature Club\n",
    "          976730, #Halo: The Master Chief Collection\n",
    "          1468810, #Tale of Immortal\n",
    "          1794680, #Vampire Survivors\n",
    "          49520, #Borderlands 2\n",
    "          72850, #The Elder Scrolls V: Skyrim\n",
    "          251570, #7 Days to Die\n",
    "          391540, #Undertale\n",
    "          261550, #Mount & Blade II: Bannerlord\n",
    "          255710, #Cities: Skylines\n",
    "          1118200, #People Playground\n",
    "          814380, #Sekiro: Shadows Die Twice\n",
    "          1293830, #Forza Horizon 4\n",
    "          394360, #Hearts of Iron IV\n",
    "          548430, #Deep Rock Galactic\n",
    "          319630, #Life is Strange\n",
    "          700330, #SCP: Secret Laboratory\n",
    "          1240440, #Halo Infinite\n",
    "          284160, #BeamNG.drive\n",
    "          632360, #Risk of Rain 2\n",
    "          107410, #Arma 3\n",
    "          782330, #Doom Eternal\n",
    "          1782210, #Crab Game\n",
    "          108600, #Project Zomboid\n",
    "          1625450, #Muck\n",
    "          227940, #Heroes & Generals\n",
    "          990080, #Hogwarts Legacy\n",
    "          22380, #Fallout: New Vegas\n",
    "          477160, #Human: Fall Flat\n",
    "          435150, #Divinity: Original Sin 2\n",
    "          1517290, #Battlefield 2042\n",
    "          1237970, #Titanfall 2\n",
    "          203160, #Tomb Raider\n",
    "          10, #Counter-Strike\n",
    "          294100, #RimWorld\n",
    "          1238810, #Battlefield V\n",
    "          427520, #Factorio\n",
    "          489830, #The Elder Scross V: Skyrim Special Edition\n",
    "          1203220, #Naraka: Bladepoint\n",
    "          444200, #World of Tanks Blitz\n",
    "          220, #Half-Life 2\n",
    "          594650, #Hunt: Showdown\n",
    "          552520, #Far Cry 5\n",
    "          812140, #Assassins Creed Odyssey\n",
    "          552990, #World of Warships\n",
    "          268910, #Cuphead\n",
    "          301520,#Robocraft\n",
    "          379720,#Doom\n",
    "          48700,#Mount & Blade: Warband\n",
    "          8930,#Side Meier's Civilization V\n",
    "          1832640, #Mirror 2: Project X\n",
    "          588650, #Dead Cells\n",
    "          646570,#Slay the Spire\n",
    "          1289310,#Helltaker\n",
    "          526870,#Satisfactory\n",
    "          1326470,#Sons of the Forest\n",
    "          306130,#The Elder Scrolls Online\n",
    "          400,#Portal\n",
    "          677620,#Splitgate\n",
    "          518790,#theHunter: Call of the Wild\n",
    "          386360,#SMITE\n",
    "          262060,#Darkest Dungeon\n",
    "          813780,#Age of Empires II: Definitive Edition\n",
    "          1426210, #It Takes Two\n",
    "          1172380, #STAR WARS Jedi: Fallen Order\n",
    "          1551360, #Forza Horizon 5\n",
    "          12210, #Grand Theft Auto IV: The Complete Edition\n",
    "          1332010, #Stray\n",
    "          534380, #Dying Light 2 Stay Human\n",
    "          281990, #Stellaris\n",
    "          240, #Counter-Strike: Source\n",
    "          755790, #Ring of Elysium\n",
    "          270880, #American Truck Simulator\n",
    "          1057090, #Ori and the Will of the Wisps\n",
    "          393380, #Squad\n",
    "          508440, #Totally Accurate Battle Simulator\n",
    "          8870, #BioShock Infinite\n",
    "          1506830, #Fifa 22\n",
    "          311210, #Call of Duty: Black Ops III\n",
    "          1238840, #Battlefield 1\n",
    "          1222670, #The Sims 4\n",
    "          3590,#Plants vs Zombies GOTY Edition\n",
    "          391220,#Rise of the Tomb Raider\n",
    "          433340,#Slime Rancher\n",
    "          1818750,#MultiVersus\n",
    "          457140,#Oxygen Not Included\n",
    "          220200,#Kerbal Space Program\n",
    "          397540,#Borderlands 3\n",
    "          361420,#ASTRONEER\n",
    "          1046930,#Dota Underlords\n",
    "          304050,#Trove\n",
    "          225540,#Just Cause 3\n",
    "          362890,#Black Mesa\n",
    "          629760,#MORDHAU\n",
    "          387990,#Scrap Mechanic\n",
    "          466240,#Deceit\n",
    "          674940,#Stick Fight: The Game\n",
    "          714010,#Aim Lab\n",
    "          222880,#Insurgency\n",
    "          883710,#Resident Evil 2\n",
    "          219740,#Don't Starve\n",
    "          305620,#The Long Dark\n",
    "          1811260,#EA Sports Fifa 23\n",
    "          524220,#NieR: Automata\n",
    "          1144200,#Ready or Not\n",
    "          581320,#Insurgency: Sandstorm\n",
    "          211820,#Starbound\n",
    "          1092790,#Inscryption\n",
    "          220240,#Far Cry 3\n",
    "          291480,#Warface\n",
    "          1190460,#Death Stranding\n",
    "          594570,#Total War: WARHAMMER II\n",
    "]\n",
    "\n",
    "base_url = 'https://store.steampowered.com/appreviews/'\n",
    "#limiting to english reviews\n",
    "query_params = {\n",
    "    'json': 1,\n",
    "    'num_per_page': 100,\n",
    "    'language': 'english',\n",
    "    'filter': 'updated',\n",
    "}"
   ]
  },
  {
   "cell_type": "code",
   "execution_count": 17,
   "metadata": {},
   "outputs": [],
   "source": [
    "### Old Approach ### \n",
    "#get a list of app ids\n",
    "def save_game_dlc_ids():\n",
    "    url = 'https://api.steampowered.com/ISteamApps/GetAppList/v2/'\n",
    "    data = requests.get(url).json()\n",
    "    app_ids = [entry['appid'] for entry in data['applist']['apps']]\n",
    "    print('Total number of app ids: ' + str(len(app_ids)))\n",
    "    \n",
    "    #filter out non-game apps\n",
    "    url = 'https://store.steampowered.com/api/appdetails'\n",
    "    game_ids = []\n",
    "    dlc_ids = []\n",
    "    for app_id in tqdm.tqdm(app_ids):\n",
    "        params = {\n",
    "            'appids': app_id['appid'],\n",
    "            'filters': 'basic'\n",
    "        }\n",
    "        data = requests.get(url, params=params).json()\n",
    "        if (data[str(app_id['appid'])]['success']):\n",
    "            if (data[str(app_id['appid'])]['data']['type'] == 'game'):\n",
    "                game_ids.append(app_id['appid'])\n",
    "            elif (data[str(app_id['appid'])]['data']['type'] == 'dlc'):\n",
    "                dlc_ids.append(app_id['appid'])\n",
    "        time.sleep(0.5)\n",
    "    print('Total number of game app ids: ' + str(len(game_ids)))\n",
    "    print('Total number of dlc app ids: ' + str(len(dlc_ids)))\n",
    "    \n",
    "    #pickle game ids and dlc ids\n",
    "    with open('game_ids.pickle', 'wb') as f:\n",
    "        pickle.dump(game_ids, f)\n",
    "    with open('dlc_ids.pickle', 'wb') as f:\n",
    "        pickle.dump(dlc_ids, f)\n",
    "\n",
    "def filter_app_ids_by_review_count(app_ids, target_positive, target_negative):\n",
    "    #filter out games that don't have enough positive or negative reviews\n",
    "    for app_id in app_ids:\n",
    "        data = requests.get(base_url + str(app_id['appid']), params=query_params).json()\n",
    "        if (data['query_summary']['total_positive'] < target_positive or data['query_summary']['total_negative'] < target_negative):\n",
    "            app_ids.remove(app_id)\n",
    "        time.sleep(0.5)    \n",
    "\n",
    "    print('Total number of game app ids with enough reviews: ' + str(len(app_ids)))\n",
    "    #save app ids to file\n",
    "    file_name = 'app_ids_' + str(target_positive) + '_' + str(target_negative) + '.pickle'\n",
    "    with open(file_name, 'wb') as f:\n",
    "        pickle.dump(app_ids, f)\n",
    "    return app_ids\n",
    "\n",
    "def load_app_ids():\n",
    "    with open('app_ids.pickle', 'rb') as f:\n",
    "        return pickle.load(f)"
   ]
  },
  {
   "cell_type": "code",
   "execution_count": 31,
   "metadata": {},
   "outputs": [],
   "source": [
    "#path of positive files: steam/pos\n",
    "#path of negative files: steam/neg\n",
    "\n",
    "#make directories\n",
    "os.makedirs('steam/pos', exist_ok=True)\n",
    "os.makedirs('steam/neg', exist_ok=True)\n",
    "\n",
    "#set target number of reviews per each game\n",
    "target_positive = 200\n",
    "target_negative = 200\n",
    "\n",
    "def filter_by_number_of_reviews(app_ids, target_positive, target_negative):\n",
    "    valid_app_ids = []\n",
    "    for app_id in tqdm.tqdm(app_ids):\n",
    "        response = requests.get(base_url + str(app_id), params=query_params)\n",
    "        if response.status_code == 200:\n",
    "            response_json = response.json()\n",
    "            if response_json['success'] == 1:\n",
    "                number_of_positive_reviews = response_json['query_summary']['total_positive']\n",
    "                number_of_negative_reviews = response_json['query_summary']['total_negative']\n",
    "                if number_of_positive_reviews >= target_positive and number_of_negative_reviews >= target_negative:\n",
    "                    valid_app_ids.append(app_id)\n",
    "        time.sleep(0.25)\n",
    "    return valid_app_ids\n",
    "\n",
    "#Steam reviews can be in ascii or in unicode, so try to convert if possible        \n",
    "def convert_to_ascii(review_text):\n",
    "    try:\n",
    "        return True, unidecode.unidecode(review_text, errors='strict')\n",
    "    except(UnidecodeError):\n",
    "        return False, None\n",
    "\n",
    "#write reviews to files (return bool for if file was written or not)\n",
    "def write_file(review_json_data, app_id):\n",
    "    filename = review_json_data['recommendationid']\n",
    "    review_text = review_json_data['review']\n",
    "    recommend = review_json_data['voted_up']\n",
    "    conversion_success, review_text = convert_to_ascii(review_text)\n",
    "    if conversion_success:\n",
    "        try:\n",
    "            if recommend:\n",
    "                with open('steam/pos/' + app_id + \"/\" + filename + \".txt\", 'x') as f:\n",
    "                    f.write(review_text)\n",
    "            else:\n",
    "                with open('steam/neg/' + app_id + \"/\" + filename + \".txt\", 'x') as f:\n",
    "                    f.write(review_text)\n",
    "        except(FileExistsError):\n",
    "            #file already exists for some reason\n",
    "            return False\n",
    "        return True\n",
    "    else:\n",
    "        return False\n",
    "    \n",
    "def scrape_review(review_type, app_id, target_number):\n",
    "    '''\n",
    "    Scrapes target number of reviews of a specific type from a specific game, saving them to files.\n",
    "\n",
    "    Args:\n",
    "        review_type: 'positive' or 'negative'\n",
    "        app_id: app id of game\n",
    "        target_number: target number of reviews to scrape\n",
    "\n",
    "    Returns:\n",
    "        None\n",
    "    '''\n",
    "    query_params['cursor'] = '*'\n",
    "    query_params['review_type'] = review_type\n",
    "    current_reviews = 0\n",
    "\n",
    "    with tqdm.tqdm(total=target_number, leave=False) as progress_bar:\n",
    "        while current_reviews < target_number:\n",
    "            data = requests.get(base_url + str(app_id), params=query_params).json()\n",
    "            \n",
    "            #error checking\n",
    "            if (data['success'] != 1):\n",
    "                print('Error: ' + data['error'])\n",
    "                break\n",
    "            \n",
    "            #check if there are reviews\n",
    "            if (len(data['reviews']) == 0):\n",
    "                print('Warning: Out of reviews for app id ' + str(app_id))\n",
    "                print(data)\n",
    "                break\n",
    "\n",
    "            tqdm_count = 0\n",
    "            for review in data['reviews']:\n",
    "                if write_file(review, str(app_id)):\n",
    "                    current_reviews += 1\n",
    "                    tqdm_count += 1\n",
    "                if current_reviews >= target_number:\n",
    "                    break\n",
    "            #update cursor (need to url encode)\n",
    "            query_params['cursor'] = data['cursor']\n",
    "            progress_bar.update(tqdm_count)\n",
    "            #warn if no reviews were written\n",
    "            if (tqdm_count == 0):\n",
    "                print('Warning: Out of reviews for app id ' + str(app_id))\n",
    "                break\n",
    "            #sleep to avoid rate limiting\n",
    "            time.sleep(1)\n",
    "        #warn if we didn't get enough reviews\n",
    "        if current_reviews < target_number:\n",
    "            print('Warning: Only got ' + str(current_reviews) + ' reviews for app id ' + str(app_id))\n",
    "\n",
    "def main_scraping(appids):\n",
    "    for app_id in appids:\n",
    "        print('Scraping reviews for app id: ' + str(app_id))\n",
    "        os.makedirs('steam/pos/' + str(app_id), exist_ok=True)\n",
    "        os.makedirs('steam/neg/' + str(app_id), exist_ok=True)\n",
    "        #get positive reviews\n",
    "        scrape_review('positive', app_id, target_positive)\n",
    "\n",
    "        #get negative reviews\n",
    "        scrape_review('negative', app_id, target_negative)"
   ]
  },
  {
   "cell_type": "code",
   "execution_count": 23,
   "metadata": {},
   "outputs": [
    {
     "name": "stdout",
     "output_type": "stream",
     "text": [
      "167\n"
     ]
    },
    {
     "name": "stderr",
     "output_type": "stream",
     "text": [
      "100%|██████████| 167/167 [01:27<00:00,  1.90it/s]"
     ]
    },
    {
     "name": "stdout",
     "output_type": "stream",
     "text": [
      "150\n"
     ]
    },
    {
     "name": "stderr",
     "output_type": "stream",
     "text": [
      "\n"
     ]
    }
   ],
   "source": [
    "print(len(appids))\n",
    "valid_appids = filter_by_number_of_reviews(appids, target_positive, target_negative)\n",
    "print(len(valid_appids))"
   ]
  },
  {
   "cell_type": "code",
   "execution_count": 32,
   "metadata": {},
   "outputs": [
    {
     "name": "stdout",
     "output_type": "stream",
     "text": [
      "Scraping reviews for app id: 730\n"
     ]
    },
    {
     "name": "stderr",
     "output_type": "stream",
     "text": [
      "                                                 \r"
     ]
    },
    {
     "name": "stdout",
     "output_type": "stream",
     "text": [
      "Scraping reviews for app id: 578080\n"
     ]
    },
    {
     "name": "stderr",
     "output_type": "stream",
     "text": [
      "                                                  \r"
     ]
    },
    {
     "name": "stdout",
     "output_type": "stream",
     "text": [
      "Scraping reviews for app id: 570\n"
     ]
    },
    {
     "name": "stderr",
     "output_type": "stream",
     "text": [
      "                                                  \r"
     ]
    },
    {
     "name": "stdout",
     "output_type": "stream",
     "text": [
      "Scraping reviews for app id: 271590\n"
     ]
    },
    {
     "name": "stderr",
     "output_type": "stream",
     "text": [
      "                                                  \r"
     ]
    },
    {
     "name": "stdout",
     "output_type": "stream",
     "text": [
      "Scraping reviews for app id: 359550\n"
     ]
    },
    {
     "name": "stderr",
     "output_type": "stream",
     "text": [
      "                                                  \r"
     ]
    },
    {
     "name": "stdout",
     "output_type": "stream",
     "text": [
      "Scraping reviews for app id: 440\n"
     ]
    },
    {
     "name": "stderr",
     "output_type": "stream",
     "text": [
      "                                                 \r"
     ]
    },
    {
     "name": "stdout",
     "output_type": "stream",
     "text": [
      "Scraping reviews for app id: 105600\n"
     ]
    },
    {
     "name": "stderr",
     "output_type": "stream",
     "text": [
      "                                                  \r"
     ]
    },
    {
     "name": "stdout",
     "output_type": "stream",
     "text": [
      "Scraping reviews for app id: 4000\n"
     ]
    },
    {
     "name": "stderr",
     "output_type": "stream",
     "text": [
      "                                                 \r"
     ]
    },
    {
     "name": "stdout",
     "output_type": "stream",
     "text": [
      "Scraping reviews for app id: 252490\n"
     ]
    },
    {
     "name": "stderr",
     "output_type": "stream",
     "text": [
      "                                                  \r"
     ]
    },
    {
     "name": "stdout",
     "output_type": "stream",
     "text": [
      "Scraping reviews for app id: 292030\n"
     ]
    },
    {
     "name": "stderr",
     "output_type": "stream",
     "text": [
      "                                                  \r"
     ]
    },
    {
     "name": "stdout",
     "output_type": "stream",
     "text": [
      "Scraping reviews for app id: 945360\n"
     ]
    },
    {
     "name": "stderr",
     "output_type": "stream",
     "text": [
      "                                                  \r"
     ]
    },
    {
     "name": "stdout",
     "output_type": "stream",
     "text": [
      "Scraping reviews for app id: 1085660\n"
     ]
    },
    {
     "name": "stderr",
     "output_type": "stream",
     "text": [
      "                                                  \r"
     ]
    },
    {
     "name": "stdout",
     "output_type": "stream",
     "text": [
      "Scraping reviews for app id: 550\n"
     ]
    },
    {
     "name": "stderr",
     "output_type": "stream",
     "text": [
      "                                                  \r"
     ]
    },
    {
     "name": "stdout",
     "output_type": "stream",
     "text": [
      "Scraping reviews for app id: 1091500\n"
     ]
    },
    {
     "name": "stderr",
     "output_type": "stream",
     "text": [
      "                                                  \r"
     ]
    },
    {
     "name": "stdout",
     "output_type": "stream",
     "text": [
      "Scraping reviews for app id: 304930\n"
     ]
    },
    {
     "name": "stderr",
     "output_type": "stream",
     "text": [
      "                                                 \r"
     ]
    },
    {
     "name": "stdout",
     "output_type": "stream",
     "text": [
      "Scraping reviews for app id: 1245620\n"
     ]
    },
    {
     "name": "stderr",
     "output_type": "stream",
     "text": [
      "                                                  \r"
     ]
    },
    {
     "name": "stdout",
     "output_type": "stream",
     "text": [
      "Scraping reviews for app id: 346110\n"
     ]
    },
    {
     "name": "stderr",
     "output_type": "stream",
     "text": [
      "                                                  \r"
     ]
    },
    {
     "name": "stdout",
     "output_type": "stream",
     "text": [
      "Scraping reviews for app id: 1097150\n"
     ]
    },
    {
     "name": "stderr",
     "output_type": "stream",
     "text": [
      "                                                 \r"
     ]
    },
    {
     "name": "stdout",
     "output_type": "stream",
     "text": [
      "Scraping reviews for app id: 381210\n"
     ]
    },
    {
     "name": "stderr",
     "output_type": "stream",
     "text": [
      "                                                  \r"
     ]
    },
    {
     "name": "stdout",
     "output_type": "stream",
     "text": [
      "Scraping reviews for app id: 413150\n"
     ]
    },
    {
     "name": "stderr",
     "output_type": "stream",
     "text": [
      "                                                  \r"
     ]
    },
    {
     "name": "stdout",
     "output_type": "stream",
     "text": [
      "Scraping reviews for app id: 227300\n"
     ]
    },
    {
     "name": "stderr",
     "output_type": "stream",
     "text": [
      "                                                 \r"
     ]
    },
    {
     "name": "stdout",
     "output_type": "stream",
     "text": [
      "Scraping reviews for app id: 739630\n"
     ]
    },
    {
     "name": "stderr",
     "output_type": "stream",
     "text": [
      "                                                  \r"
     ]
    },
    {
     "name": "stdout",
     "output_type": "stream",
     "text": [
      "Scraping reviews for app id: 252950\n"
     ]
    },
    {
     "name": "stderr",
     "output_type": "stream",
     "text": [
      "                                                 \r"
     ]
    },
    {
     "name": "stdout",
     "output_type": "stream",
     "text": [
      "Scraping reviews for app id: 242760\n"
     ]
    },
    {
     "name": "stderr",
     "output_type": "stream",
     "text": [
      "                                                  \r"
     ]
    },
    {
     "name": "stdout",
     "output_type": "stream",
     "text": [
      "Scraping reviews for app id: 218620\n"
     ]
    },
    {
     "name": "stderr",
     "output_type": "stream",
     "text": [
      "                                                 \r"
     ]
    },
    {
     "name": "stdout",
     "output_type": "stream",
     "text": [
      "Scraping reviews for app id: 236390\n"
     ]
    },
    {
     "name": "stderr",
     "output_type": "stream",
     "text": [
      "                                                  \r"
     ]
    },
    {
     "name": "stdout",
     "output_type": "stream",
     "text": [
      "Scraping reviews for app id: 1174180\n"
     ]
    },
    {
     "name": "stderr",
     "output_type": "stream",
     "text": [
      "                                                 \r"
     ]
    },
    {
     "name": "stdout",
     "output_type": "stream",
     "text": [
      "Scraping reviews for app id: 892970\n"
     ]
    },
    {
     "name": "stderr",
     "output_type": "stream",
     "text": [
      "                                                  \r"
     ]
    },
    {
     "name": "stdout",
     "output_type": "stream",
     "text": [
      "Scraping reviews for app id: 444090\n"
     ]
    },
    {
     "name": "stderr",
     "output_type": "stream",
     "text": [
      "                                                  \r"
     ]
    },
    {
     "name": "stdout",
     "output_type": "stream",
     "text": [
      "Scraping reviews for app id: 291550\n"
     ]
    },
    {
     "name": "stderr",
     "output_type": "stream",
     "text": [
      "                                                  \r"
     ]
    },
    {
     "name": "stdout",
     "output_type": "stream",
     "text": [
      "Scraping reviews for app id: 221100\n"
     ]
    },
    {
     "name": "stderr",
     "output_type": "stream",
     "text": [
      "                                                  \r"
     ]
    },
    {
     "name": "stdout",
     "output_type": "stream",
     "text": [
      "Scraping reviews for app id: 620\n"
     ]
    },
    {
     "name": "stderr",
     "output_type": "stream",
     "text": [
      "                                                 \r"
     ]
    },
    {
     "name": "stdout",
     "output_type": "stream",
     "text": [
      "Scraping reviews for app id: 239140\n"
     ]
    },
    {
     "name": "stderr",
     "output_type": "stream",
     "text": [
      "                                                 \r"
     ]
    },
    {
     "name": "stdout",
     "output_type": "stream",
     "text": [
      "Scraping reviews for app id: 322330\n"
     ]
    },
    {
     "name": "stderr",
     "output_type": "stream",
     "text": [
      "                                                  \r"
     ]
    },
    {
     "name": "stdout",
     "output_type": "stream",
     "text": [
      "Scraping reviews for app id: 367520\n"
     ]
    },
    {
     "name": "stderr",
     "output_type": "stream",
     "text": [
      "                                                  \r"
     ]
    },
    {
     "name": "stdout",
     "output_type": "stream",
     "text": [
      "Scraping reviews for app id: 1172620\n"
     ]
    },
    {
     "name": "stderr",
     "output_type": "stream",
     "text": [
      "                                                  \r"
     ]
    },
    {
     "name": "stdout",
     "output_type": "stream",
     "text": [
      "Scraping reviews for app id: 582010\n"
     ]
    },
    {
     "name": "stderr",
     "output_type": "stream",
     "text": [
      "                                                  \r"
     ]
    },
    {
     "name": "stdout",
     "output_type": "stream",
     "text": [
      "Scraping reviews for app id: 374320\n"
     ]
    },
    {
     "name": "stderr",
     "output_type": "stream",
     "text": [
      "                                                  \r"
     ]
    },
    {
     "name": "stdout",
     "output_type": "stream",
     "text": [
      "Scraping reviews for app id: 648800\n"
     ]
    },
    {
     "name": "stderr",
     "output_type": "stream",
     "text": [
      "                                                  \r"
     ]
    },
    {
     "name": "stdout",
     "output_type": "stream",
     "text": [
      "Scraping reviews for app id: 960090\n"
     ]
    },
    {
     "name": "stderr",
     "output_type": "stream",
     "text": [
      "                                                  \r"
     ]
    },
    {
     "name": "stdout",
     "output_type": "stream",
     "text": [
      "Scraping reviews for app id: 1063730\n"
     ]
    },
    {
     "name": "stderr",
     "output_type": "stream",
     "text": [
      "                                                  \r"
     ]
    },
    {
     "name": "stdout",
     "output_type": "stream",
     "text": [
      "Scraping reviews for app id: 322170\n"
     ]
    },
    {
     "name": "stderr",
     "output_type": "stream",
     "text": [
      "                                                  \r"
     ]
    },
    {
     "name": "stdout",
     "output_type": "stream",
     "text": [
      "Scraping reviews for app id: 250900\n"
     ]
    },
    {
     "name": "stderr",
     "output_type": "stream",
     "text": [
      "                                                  \r"
     ]
    },
    {
     "name": "stdout",
     "output_type": "stream",
     "text": [
      "Scraping reviews for app id: 433850\n"
     ]
    },
    {
     "name": "stderr",
     "output_type": "stream",
     "text": [
      "                                                 \r"
     ]
    },
    {
     "name": "stdout",
     "output_type": "stream",
     "text": [
      "Scraping reviews for app id: 1145360\n"
     ]
    },
    {
     "name": "stderr",
     "output_type": "stream",
     "text": [
      "                                                  \r"
     ]
    },
    {
     "name": "stdout",
     "output_type": "stream",
     "text": [
      "Scraping reviews for app id: 264710\n"
     ]
    },
    {
     "name": "stderr",
     "output_type": "stream",
     "text": [
      "                                                  \r"
     ]
    },
    {
     "name": "stdout",
     "output_type": "stream",
     "text": [
      "Scraping reviews for app id: 1938090\n"
     ]
    },
    {
     "name": "stderr",
     "output_type": "stream",
     "text": [
      "                                                  \r"
     ]
    },
    {
     "name": "stdout",
     "output_type": "stream",
     "text": [
      "Scraping reviews for app id: 275850\n"
     ]
    },
    {
     "name": "stderr",
     "output_type": "stream",
     "text": [
      "                                                  \r"
     ]
    },
    {
     "name": "stdout",
     "output_type": "stream",
     "text": [
      "Scraping reviews for app id: 377160\n"
     ]
    },
    {
     "name": "stderr",
     "output_type": "stream",
     "text": [
      "                                                  \r"
     ]
    },
    {
     "name": "stdout",
     "output_type": "stream",
     "text": [
      "Scraping reviews for app id: 1599340\n"
     ]
    },
    {
     "name": "stderr",
     "output_type": "stream",
     "text": [
      "                                                  \r"
     ]
    },
    {
     "name": "stdout",
     "output_type": "stream",
     "text": [
      "Scraping reviews for app id: 289070\n"
     ]
    },
    {
     "name": "stderr",
     "output_type": "stream",
     "text": [
      "                                                  \r"
     ]
    },
    {
     "name": "stdout",
     "output_type": "stream",
     "text": [
      "Scraping reviews for app id: 976730\n"
     ]
    },
    {
     "name": "stderr",
     "output_type": "stream",
     "text": [
      "                                                  \r"
     ]
    },
    {
     "name": "stdout",
     "output_type": "stream",
     "text": [
      "Scraping reviews for app id: 1468810\n"
     ]
    },
    {
     "name": "stderr",
     "output_type": "stream",
     "text": [
      "                                                  \r"
     ]
    },
    {
     "name": "stdout",
     "output_type": "stream",
     "text": [
      "Scraping reviews for app id: 1794680\n"
     ]
    },
    {
     "name": "stderr",
     "output_type": "stream",
     "text": [
      "                                                 \r"
     ]
    },
    {
     "name": "stdout",
     "output_type": "stream",
     "text": [
      "Scraping reviews for app id: 49520\n"
     ]
    },
    {
     "name": "stderr",
     "output_type": "stream",
     "text": [
      "                                                  \r"
     ]
    },
    {
     "name": "stdout",
     "output_type": "stream",
     "text": [
      "Scraping reviews for app id: 72850\n"
     ]
    },
    {
     "name": "stderr",
     "output_type": "stream",
     "text": [
      "                                                  \r"
     ]
    },
    {
     "name": "stdout",
     "output_type": "stream",
     "text": [
      "Scraping reviews for app id: 251570\n"
     ]
    },
    {
     "name": "stderr",
     "output_type": "stream",
     "text": [
      "                                                  \r"
     ]
    },
    {
     "name": "stdout",
     "output_type": "stream",
     "text": [
      "Scraping reviews for app id: 391540\n"
     ]
    },
    {
     "name": "stderr",
     "output_type": "stream",
     "text": [
      "                                                 \r"
     ]
    },
    {
     "name": "stdout",
     "output_type": "stream",
     "text": [
      "Scraping reviews for app id: 261550\n"
     ]
    },
    {
     "name": "stderr",
     "output_type": "stream",
     "text": [
      "                                                  \r"
     ]
    },
    {
     "name": "stdout",
     "output_type": "stream",
     "text": [
      "Scraping reviews for app id: 255710\n"
     ]
    },
    {
     "name": "stderr",
     "output_type": "stream",
     "text": [
      "                                                  \r"
     ]
    },
    {
     "name": "stdout",
     "output_type": "stream",
     "text": [
      "Scraping reviews for app id: 1118200\n"
     ]
    },
    {
     "name": "stderr",
     "output_type": "stream",
     "text": [
      "                                                  \r"
     ]
    },
    {
     "name": "stdout",
     "output_type": "stream",
     "text": [
      "Scraping reviews for app id: 814380\n"
     ]
    },
    {
     "name": "stderr",
     "output_type": "stream",
     "text": [
      "                                                  \r"
     ]
    },
    {
     "name": "stdout",
     "output_type": "stream",
     "text": [
      "Scraping reviews for app id: 1293830\n"
     ]
    },
    {
     "name": "stderr",
     "output_type": "stream",
     "text": [
      "                                                 \r"
     ]
    },
    {
     "name": "stdout",
     "output_type": "stream",
     "text": [
      "Scraping reviews for app id: 394360\n"
     ]
    },
    {
     "name": "stderr",
     "output_type": "stream",
     "text": [
      "                                                  \r"
     ]
    },
    {
     "name": "stdout",
     "output_type": "stream",
     "text": [
      "Scraping reviews for app id: 548430\n"
     ]
    },
    {
     "name": "stderr",
     "output_type": "stream",
     "text": [
      "                                                  \r"
     ]
    },
    {
     "name": "stdout",
     "output_type": "stream",
     "text": [
      "Scraping reviews for app id: 319630\n"
     ]
    },
    {
     "name": "stderr",
     "output_type": "stream",
     "text": [
      "                                                 \r"
     ]
    },
    {
     "name": "stdout",
     "output_type": "stream",
     "text": [
      "Scraping reviews for app id: 1240440\n"
     ]
    },
    {
     "name": "stderr",
     "output_type": "stream",
     "text": [
      "                                                  \r"
     ]
    },
    {
     "name": "stdout",
     "output_type": "stream",
     "text": [
      "Scraping reviews for app id: 284160\n"
     ]
    },
    {
     "name": "stderr",
     "output_type": "stream",
     "text": [
      "                                                  \r"
     ]
    },
    {
     "name": "stdout",
     "output_type": "stream",
     "text": [
      "Scraping reviews for app id: 632360\n"
     ]
    },
    {
     "name": "stderr",
     "output_type": "stream",
     "text": [
      "                                                  \r"
     ]
    },
    {
     "name": "stdout",
     "output_type": "stream",
     "text": [
      "Scraping reviews for app id: 107410\n"
     ]
    },
    {
     "name": "stderr",
     "output_type": "stream",
     "text": [
      "                                                 \r"
     ]
    },
    {
     "name": "stdout",
     "output_type": "stream",
     "text": [
      "Scraping reviews for app id: 782330\n"
     ]
    },
    {
     "name": "stderr",
     "output_type": "stream",
     "text": [
      "                                                  \r"
     ]
    },
    {
     "name": "stdout",
     "output_type": "stream",
     "text": [
      "Scraping reviews for app id: 108600\n"
     ]
    },
    {
     "name": "stderr",
     "output_type": "stream",
     "text": [
      "                                                  \r"
     ]
    },
    {
     "name": "stdout",
     "output_type": "stream",
     "text": [
      "Scraping reviews for app id: 227940\n"
     ]
    },
    {
     "name": "stderr",
     "output_type": "stream",
     "text": [
      "                                                  \r"
     ]
    },
    {
     "name": "stdout",
     "output_type": "stream",
     "text": [
      "Scraping reviews for app id: 990080\n"
     ]
    },
    {
     "name": "stderr",
     "output_type": "stream",
     "text": [
      "                                                  \r"
     ]
    },
    {
     "name": "stdout",
     "output_type": "stream",
     "text": [
      "Scraping reviews for app id: 22380\n"
     ]
    },
    {
     "name": "stderr",
     "output_type": "stream",
     "text": [
      "                                                  \r"
     ]
    },
    {
     "name": "stdout",
     "output_type": "stream",
     "text": [
      "Scraping reviews for app id: 477160\n"
     ]
    },
    {
     "name": "stderr",
     "output_type": "stream",
     "text": [
      "                                                 \r"
     ]
    },
    {
     "name": "stdout",
     "output_type": "stream",
     "text": [
      "Scraping reviews for app id: 435150\n"
     ]
    },
    {
     "name": "stderr",
     "output_type": "stream",
     "text": [
      "                                                  \r"
     ]
    },
    {
     "name": "stdout",
     "output_type": "stream",
     "text": [
      "Scraping reviews for app id: 1517290\n"
     ]
    },
    {
     "name": "stderr",
     "output_type": "stream",
     "text": [
      "                                                  \r"
     ]
    },
    {
     "name": "stdout",
     "output_type": "stream",
     "text": [
      "Scraping reviews for app id: 1237970\n"
     ]
    },
    {
     "name": "stderr",
     "output_type": "stream",
     "text": [
      "                                                  \r"
     ]
    },
    {
     "name": "stdout",
     "output_type": "stream",
     "text": [
      "Scraping reviews for app id: 203160\n"
     ]
    },
    {
     "name": "stderr",
     "output_type": "stream",
     "text": [
      "                                                  \r"
     ]
    },
    {
     "name": "stdout",
     "output_type": "stream",
     "text": [
      "Scraping reviews for app id: 10\n"
     ]
    },
    {
     "name": "stderr",
     "output_type": "stream",
     "text": [
      "                                                 \r"
     ]
    },
    {
     "name": "stdout",
     "output_type": "stream",
     "text": [
      "Scraping reviews for app id: 294100\n"
     ]
    },
    {
     "name": "stderr",
     "output_type": "stream",
     "text": [
      "                                                 \r"
     ]
    },
    {
     "name": "stdout",
     "output_type": "stream",
     "text": [
      "Scraping reviews for app id: 1238810\n"
     ]
    },
    {
     "name": "stderr",
     "output_type": "stream",
     "text": [
      "                                                  \r"
     ]
    },
    {
     "name": "stdout",
     "output_type": "stream",
     "text": [
      "Scraping reviews for app id: 427520\n"
     ]
    },
    {
     "name": "stderr",
     "output_type": "stream",
     "text": [
      "                                                  \r"
     ]
    },
    {
     "name": "stdout",
     "output_type": "stream",
     "text": [
      "Scraping reviews for app id: 489830\n"
     ]
    },
    {
     "name": "stderr",
     "output_type": "stream",
     "text": [
      "                                                  \r"
     ]
    },
    {
     "name": "stdout",
     "output_type": "stream",
     "text": [
      "Scraping reviews for app id: 1203220\n"
     ]
    },
    {
     "name": "stderr",
     "output_type": "stream",
     "text": [
      "                                                 \r"
     ]
    },
    {
     "name": "stdout",
     "output_type": "stream",
     "text": [
      "Scraping reviews for app id: 220\n"
     ]
    },
    {
     "name": "stderr",
     "output_type": "stream",
     "text": [
      "                                                  \r"
     ]
    },
    {
     "name": "stdout",
     "output_type": "stream",
     "text": [
      "Scraping reviews for app id: 594650\n"
     ]
    },
    {
     "name": "stderr",
     "output_type": "stream",
     "text": [
      "                                                  \r"
     ]
    },
    {
     "name": "stdout",
     "output_type": "stream",
     "text": [
      "Scraping reviews for app id: 552520\n"
     ]
    },
    {
     "name": "stderr",
     "output_type": "stream",
     "text": [
      "                                                  \r"
     ]
    },
    {
     "name": "stdout",
     "output_type": "stream",
     "text": [
      "Scraping reviews for app id: 812140\n"
     ]
    },
    {
     "name": "stderr",
     "output_type": "stream",
     "text": [
      "                                                  \r"
     ]
    },
    {
     "name": "stdout",
     "output_type": "stream",
     "text": [
      "Scraping reviews for app id: 268910\n"
     ]
    },
    {
     "name": "stderr",
     "output_type": "stream",
     "text": [
      "                                                 \r"
     ]
    },
    {
     "name": "stdout",
     "output_type": "stream",
     "text": [
      "Scraping reviews for app id: 301520\n"
     ]
    },
    {
     "name": "stderr",
     "output_type": "stream",
     "text": [
      "                                                  \r"
     ]
    },
    {
     "name": "stdout",
     "output_type": "stream",
     "text": [
      "Scraping reviews for app id: 379720\n"
     ]
    },
    {
     "name": "stderr",
     "output_type": "stream",
     "text": [
      "                                                  \r"
     ]
    },
    {
     "name": "stdout",
     "output_type": "stream",
     "text": [
      "Scraping reviews for app id: 48700\n"
     ]
    },
    {
     "name": "stderr",
     "output_type": "stream",
     "text": [
      "                                                  \r"
     ]
    },
    {
     "name": "stdout",
     "output_type": "stream",
     "text": [
      "Scraping reviews for app id: 8930\n"
     ]
    },
    {
     "name": "stderr",
     "output_type": "stream",
     "text": [
      "                                                 \r"
     ]
    },
    {
     "name": "stdout",
     "output_type": "stream",
     "text": [
      "Scraping reviews for app id: 1832640\n"
     ]
    },
    {
     "name": "stderr",
     "output_type": "stream",
     "text": [
      "                                                  \r"
     ]
    },
    {
     "name": "stdout",
     "output_type": "stream",
     "text": [
      "Scraping reviews for app id: 588650\n"
     ]
    },
    {
     "name": "stderr",
     "output_type": "stream",
     "text": [
      "                                                  \r"
     ]
    },
    {
     "name": "stdout",
     "output_type": "stream",
     "text": [
      "Scraping reviews for app id: 646570\n"
     ]
    },
    {
     "name": "stderr",
     "output_type": "stream",
     "text": [
      "                                                  \r"
     ]
    },
    {
     "name": "stdout",
     "output_type": "stream",
     "text": [
      "Scraping reviews for app id: 526870\n"
     ]
    },
    {
     "name": "stderr",
     "output_type": "stream",
     "text": [
      "                                                 \r"
     ]
    },
    {
     "name": "stdout",
     "output_type": "stream",
     "text": [
      "Scraping reviews for app id: 1326470\n"
     ]
    },
    {
     "name": "stderr",
     "output_type": "stream",
     "text": [
      "                                                 \r"
     ]
    },
    {
     "name": "stdout",
     "output_type": "stream",
     "text": [
      "Scraping reviews for app id: 306130\n"
     ]
    },
    {
     "name": "stderr",
     "output_type": "stream",
     "text": [
      "                                                  \r"
     ]
    },
    {
     "name": "stdout",
     "output_type": "stream",
     "text": [
      "Scraping reviews for app id: 400\n"
     ]
    },
    {
     "name": "stderr",
     "output_type": "stream",
     "text": [
      "                                                 \r"
     ]
    },
    {
     "name": "stdout",
     "output_type": "stream",
     "text": [
      "Scraping reviews for app id: 518790\n"
     ]
    },
    {
     "name": "stderr",
     "output_type": "stream",
     "text": [
      "                                                  \r"
     ]
    },
    {
     "name": "stdout",
     "output_type": "stream",
     "text": [
      "Scraping reviews for app id: 262060\n"
     ]
    },
    {
     "name": "stderr",
     "output_type": "stream",
     "text": [
      "                                                  \r"
     ]
    },
    {
     "name": "stdout",
     "output_type": "stream",
     "text": [
      "Scraping reviews for app id: 813780\n"
     ]
    },
    {
     "name": "stderr",
     "output_type": "stream",
     "text": [
      "                                                  \r"
     ]
    },
    {
     "name": "stdout",
     "output_type": "stream",
     "text": [
      "Scraping reviews for app id: 1426210\n"
     ]
    },
    {
     "name": "stderr",
     "output_type": "stream",
     "text": [
      "                                                  \r"
     ]
    },
    {
     "name": "stdout",
     "output_type": "stream",
     "text": [
      "Scraping reviews for app id: 1172380\n"
     ]
    },
    {
     "name": "stderr",
     "output_type": "stream",
     "text": [
      "                                                  \r"
     ]
    },
    {
     "name": "stdout",
     "output_type": "stream",
     "text": [
      "Scraping reviews for app id: 1551360\n"
     ]
    },
    {
     "name": "stderr",
     "output_type": "stream",
     "text": [
      "                                                  \r"
     ]
    },
    {
     "name": "stdout",
     "output_type": "stream",
     "text": [
      "Scraping reviews for app id: 12210\n"
     ]
    },
    {
     "name": "stderr",
     "output_type": "stream",
     "text": [
      "                                                  \r"
     ]
    },
    {
     "name": "stdout",
     "output_type": "stream",
     "text": [
      "Scraping reviews for app id: 1332010\n"
     ]
    },
    {
     "name": "stderr",
     "output_type": "stream",
     "text": [
      "                                                  \r"
     ]
    },
    {
     "name": "stdout",
     "output_type": "stream",
     "text": [
      "Scraping reviews for app id: 534380\n"
     ]
    },
    {
     "name": "stderr",
     "output_type": "stream",
     "text": [
      "                                                  \r"
     ]
    },
    {
     "name": "stdout",
     "output_type": "stream",
     "text": [
      "Scraping reviews for app id: 281990\n"
     ]
    },
    {
     "name": "stderr",
     "output_type": "stream",
     "text": [
      "                                                  \r"
     ]
    },
    {
     "name": "stdout",
     "output_type": "stream",
     "text": [
      "Scraping reviews for app id: 240\n"
     ]
    },
    {
     "name": "stderr",
     "output_type": "stream",
     "text": [
      "                                                 \r"
     ]
    },
    {
     "name": "stdout",
     "output_type": "stream",
     "text": [
      "Scraping reviews for app id: 270880\n"
     ]
    },
    {
     "name": "stderr",
     "output_type": "stream",
     "text": [
      "                                                  \r"
     ]
    },
    {
     "name": "stdout",
     "output_type": "stream",
     "text": [
      "Scraping reviews for app id: 1057090\n"
     ]
    },
    {
     "name": "stderr",
     "output_type": "stream",
     "text": [
      "                                                  \r"
     ]
    },
    {
     "name": "stdout",
     "output_type": "stream",
     "text": [
      "Scraping reviews for app id: 393380\n"
     ]
    },
    {
     "name": "stderr",
     "output_type": "stream",
     "text": [
      "                                                  \r"
     ]
    },
    {
     "name": "stdout",
     "output_type": "stream",
     "text": [
      "Scraping reviews for app id: 508440\n"
     ]
    },
    {
     "name": "stderr",
     "output_type": "stream",
     "text": [
      "                                                  \r"
     ]
    },
    {
     "name": "stdout",
     "output_type": "stream",
     "text": [
      "Scraping reviews for app id: 8870\n"
     ]
    },
    {
     "name": "stderr",
     "output_type": "stream",
     "text": [
      "                                                  \r"
     ]
    },
    {
     "name": "stdout",
     "output_type": "stream",
     "text": [
      "Scraping reviews for app id: 1506830\n"
     ]
    },
    {
     "name": "stderr",
     "output_type": "stream",
     "text": [
      "                                                 \r"
     ]
    },
    {
     "name": "stdout",
     "output_type": "stream",
     "text": [
      "Scraping reviews for app id: 311210\n"
     ]
    },
    {
     "name": "stderr",
     "output_type": "stream",
     "text": [
      "                                                  \r"
     ]
    },
    {
     "name": "stdout",
     "output_type": "stream",
     "text": [
      "Scraping reviews for app id: 1238840\n"
     ]
    },
    {
     "name": "stderr",
     "output_type": "stream",
     "text": [
      "                                                  \r"
     ]
    },
    {
     "name": "stdout",
     "output_type": "stream",
     "text": [
      "Scraping reviews for app id: 1222670\n"
     ]
    },
    {
     "name": "stderr",
     "output_type": "stream",
     "text": [
      "                                                  \r"
     ]
    },
    {
     "name": "stdout",
     "output_type": "stream",
     "text": [
      "Scraping reviews for app id: 3590\n"
     ]
    },
    {
     "name": "stderr",
     "output_type": "stream",
     "text": [
      "                                                  \r"
     ]
    },
    {
     "name": "stdout",
     "output_type": "stream",
     "text": [
      "Scraping reviews for app id: 391220\n"
     ]
    },
    {
     "name": "stderr",
     "output_type": "stream",
     "text": [
      "                                                  \r"
     ]
    },
    {
     "name": "stdout",
     "output_type": "stream",
     "text": [
      "Scraping reviews for app id: 433340\n"
     ]
    },
    {
     "name": "stderr",
     "output_type": "stream",
     "text": [
      "                                                  \r"
     ]
    },
    {
     "name": "stdout",
     "output_type": "stream",
     "text": [
      "Scraping reviews for app id: 1818750\n"
     ]
    },
    {
     "name": "stderr",
     "output_type": "stream",
     "text": [
      "                                                  \r"
     ]
    },
    {
     "name": "stdout",
     "output_type": "stream",
     "text": [
      "Scraping reviews for app id: 457140\n"
     ]
    },
    {
     "name": "stderr",
     "output_type": "stream",
     "text": [
      "                                                  \r"
     ]
    },
    {
     "name": "stdout",
     "output_type": "stream",
     "text": [
      "Scraping reviews for app id: 220200\n"
     ]
    },
    {
     "name": "stderr",
     "output_type": "stream",
     "text": [
      "                                                  \r"
     ]
    },
    {
     "name": "stdout",
     "output_type": "stream",
     "text": [
      "Scraping reviews for app id: 397540\n"
     ]
    },
    {
     "name": "stderr",
     "output_type": "stream",
     "text": [
      "                                                  \r"
     ]
    },
    {
     "name": "stdout",
     "output_type": "stream",
     "text": [
      "Scraping reviews for app id: 361420\n"
     ]
    },
    {
     "name": "stderr",
     "output_type": "stream",
     "text": [
      "                                                  \r"
     ]
    },
    {
     "name": "stdout",
     "output_type": "stream",
     "text": [
      "Scraping reviews for app id: 225540\n"
     ]
    },
    {
     "name": "stderr",
     "output_type": "stream",
     "text": [
      "                                                  \r"
     ]
    },
    {
     "name": "stdout",
     "output_type": "stream",
     "text": [
      "Scraping reviews for app id: 362890\n"
     ]
    },
    {
     "name": "stderr",
     "output_type": "stream",
     "text": [
      "                                                  \r"
     ]
    },
    {
     "name": "stdout",
     "output_type": "stream",
     "text": [
      "Scraping reviews for app id: 629760\n"
     ]
    },
    {
     "name": "stderr",
     "output_type": "stream",
     "text": [
      "                                                  \r"
     ]
    },
    {
     "name": "stdout",
     "output_type": "stream",
     "text": [
      "Scraping reviews for app id: 387990\n"
     ]
    },
    {
     "name": "stderr",
     "output_type": "stream",
     "text": [
      "                                                  \r"
     ]
    },
    {
     "name": "stdout",
     "output_type": "stream",
     "text": [
      "Scraping reviews for app id: 466240\n"
     ]
    },
    {
     "name": "stderr",
     "output_type": "stream",
     "text": [
      "                                                  \r"
     ]
    },
    {
     "name": "stdout",
     "output_type": "stream",
     "text": [
      "Scraping reviews for app id: 674940\n"
     ]
    },
    {
     "name": "stderr",
     "output_type": "stream",
     "text": [
      "                                                  \r"
     ]
    },
    {
     "name": "stdout",
     "output_type": "stream",
     "text": [
      "Scraping reviews for app id: 222880\n"
     ]
    },
    {
     "name": "stderr",
     "output_type": "stream",
     "text": [
      "                                                 \r"
     ]
    },
    {
     "name": "stdout",
     "output_type": "stream",
     "text": [
      "Scraping reviews for app id: 883710\n"
     ]
    },
    {
     "name": "stderr",
     "output_type": "stream",
     "text": [
      "                                                 \r"
     ]
    },
    {
     "name": "stdout",
     "output_type": "stream",
     "text": [
      "Scraping reviews for app id: 219740\n"
     ]
    },
    {
     "name": "stderr",
     "output_type": "stream",
     "text": [
      "                                                 \r"
     ]
    },
    {
     "name": "stdout",
     "output_type": "stream",
     "text": [
      "Scraping reviews for app id: 305620\n"
     ]
    },
    {
     "name": "stderr",
     "output_type": "stream",
     "text": [
      "                                                 \r"
     ]
    },
    {
     "name": "stdout",
     "output_type": "stream",
     "text": [
      "Scraping reviews for app id: 1811260\n"
     ]
    },
    {
     "name": "stderr",
     "output_type": "stream",
     "text": [
      "                                                  \r"
     ]
    },
    {
     "name": "stdout",
     "output_type": "stream",
     "text": [
      "Scraping reviews for app id: 524220\n"
     ]
    },
    {
     "name": "stderr",
     "output_type": "stream",
     "text": [
      "                                                 \r"
     ]
    },
    {
     "name": "stdout",
     "output_type": "stream",
     "text": [
      "Scraping reviews for app id: 1144200\n"
     ]
    },
    {
     "name": "stderr",
     "output_type": "stream",
     "text": [
      "                                                  \r"
     ]
    },
    {
     "name": "stdout",
     "output_type": "stream",
     "text": [
      "Scraping reviews for app id: 581320\n"
     ]
    },
    {
     "name": "stderr",
     "output_type": "stream",
     "text": [
      "                                                  \r"
     ]
    },
    {
     "name": "stdout",
     "output_type": "stream",
     "text": [
      "Scraping reviews for app id: 211820\n"
     ]
    },
    {
     "name": "stderr",
     "output_type": "stream",
     "text": [
      "                                                  \r"
     ]
    },
    {
     "name": "stdout",
     "output_type": "stream",
     "text": [
      "Scraping reviews for app id: 1092790\n"
     ]
    },
    {
     "name": "stderr",
     "output_type": "stream",
     "text": [
      "                                                  \r"
     ]
    },
    {
     "name": "stdout",
     "output_type": "stream",
     "text": [
      "Scraping reviews for app id: 220240\n"
     ]
    },
    {
     "name": "stderr",
     "output_type": "stream",
     "text": [
      "                                                 \r"
     ]
    },
    {
     "name": "stdout",
     "output_type": "stream",
     "text": [
      "Scraping reviews for app id: 291480\n"
     ]
    },
    {
     "name": "stderr",
     "output_type": "stream",
     "text": [
      "                                                  \r"
     ]
    },
    {
     "name": "stdout",
     "output_type": "stream",
     "text": [
      "Scraping reviews for app id: 1190460\n"
     ]
    },
    {
     "name": "stderr",
     "output_type": "stream",
     "text": [
      "                                                 \r"
     ]
    },
    {
     "name": "stdout",
     "output_type": "stream",
     "text": [
      "Scraping reviews for app id: 594570\n"
     ]
    },
    {
     "name": "stderr",
     "output_type": "stream",
     "text": [
      "                                                  \r"
     ]
    }
   ],
   "source": [
    "shutil.rmtree('steam')\n",
    "main_scraping(valid_appids)"
   ]
  },
  {
   "cell_type": "code",
   "execution_count": 33,
   "metadata": {},
   "outputs": [
    {
     "name": "stderr",
     "output_type": "stream",
     "text": [
      "100%|██████████| 150/150 [28:46<00:00, 11.51s/it]\n"
     ]
    },
    {
     "data": {
      "text/plain": [
       "'/mnt/c/Users/Sandaru/OneDrive/Sandaru/School/college/Senior S2/Natural Language Processing CS 7650/Group Project/steam-ds.zip'"
      ]
     },
     "execution_count": 33,
     "metadata": {},
     "output_type": "execute_result"
    }
   ],
   "source": [
    "#shuffle into train, validation, and test sets \n",
    "#(80% train, 10% validation, 10% test)\n",
    "#make directories\n",
    "import random\n",
    "\n",
    "shutil.rmtree('steam-ds')\n",
    "\n",
    "os.makedirs('steam-ds/train/pos', exist_ok=True)\n",
    "os.makedirs('steam-ds/train/neg', exist_ok=True)\n",
    "os.makedirs('steam-ds/val/pos', exist_ok=True)\n",
    "os.makedirs('steam-ds/val/neg', exist_ok=True)\n",
    "os.makedirs('steam-ds/test/pos', exist_ok=True)\n",
    "os.makedirs('steam-ds/test/neg', exist_ok=True)\n",
    "\n",
    "#fix random seed\n",
    "random.seed(777)\n",
    "\n",
    "#shuffle and split\n",
    "for app_id in tqdm.tqdm(valid_appids):\n",
    "    #get all positive reviews\n",
    "    pos_reviews = os.listdir('steam/pos/' + str(app_id))\n",
    "    random.shuffle(pos_reviews)\n",
    "    #get all negative reviews\n",
    "    neg_reviews = os.listdir('steam/neg/' + str(app_id))\n",
    "    random.shuffle(neg_reviews)\n",
    "    #split into train, validation, and test sets\n",
    "    pos_train = pos_reviews[:int(len(pos_reviews) * 0.8)]\n",
    "    pos_val = pos_reviews[int(len(pos_reviews) * 0.8):int(len(pos_reviews) * 0.9)]\n",
    "    pos_test = pos_reviews[int(len(pos_reviews) * 0.9):]\n",
    "    neg_train = neg_reviews[:int(len(neg_reviews) * 0.8)]\n",
    "    neg_val = neg_reviews[int(len(neg_reviews) * 0.8):int(len(neg_reviews) * 0.9)]\n",
    "    neg_test = neg_reviews[int(len(neg_reviews) * 0.9):]\n",
    "    #move files\n",
    "    for filename in pos_train:\n",
    "        shutil.copy('steam/pos/' + str(app_id) + '/' + filename, 'steam-ds/train/pos/' + filename)\n",
    "    for filename in pos_val:\n",
    "        shutil.copy('steam/pos/' + str(app_id) + '/' + filename, 'steam-ds/val/pos/' + filename)\n",
    "    for filename in pos_test:\n",
    "        shutil.copy('steam/pos/' + str(app_id) + '/' + filename, 'steam-ds/test/pos/' + filename)\n",
    "    for filename in neg_train:\n",
    "        shutil.copy('steam/neg/' + str(app_id) + '/' + filename, 'steam-ds/train/neg/' + filename)\n",
    "    for filename in neg_val:\n",
    "        shutil.copy('steam/neg/' + str(app_id) + '/' + filename, 'steam-ds/val/neg/' + filename)\n",
    "    for filename in neg_test:\n",
    "        shutil.copy('steam/neg/' + str(app_id) + '/' + filename, 'steam-ds/test/neg/' + filename)\n",
    "\n",
    "#zip files\n",
    "shutil.make_archive('steam-ds', 'zip', 'steam-ds')"
   ]
  }
 ],
 "metadata": {
  "kernelspec": {
   "display_name": "Python 3",
   "language": "python",
   "name": "python3"
  },
  "language_info": {
   "codemirror_mode": {
    "name": "ipython",
    "version": 3
   },
   "file_extension": ".py",
   "mimetype": "text/x-python",
   "name": "python",
   "nbconvert_exporter": "python",
   "pygments_lexer": "ipython3",
   "version": "3.10.11"
  },
  "orig_nbformat": 4
 },
 "nbformat": 4,
 "nbformat_minor": 2
}
